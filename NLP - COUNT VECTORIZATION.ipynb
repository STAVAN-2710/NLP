{
 "cells": [
  {
   "cell_type": "code",
   "execution_count": 1,
   "id": "8c61eaec",
   "metadata": {},
   "outputs": [],
   "source": [
    "import numpy as np\n",
    "import pandas as pd\n",
    "from sklearn.feature_extraction.text import CountVectorizer\n",
    "from sklearn.naive_bayes import MultinomialNB\n",
    "from sklearn.model_selection import train_test_split\n",
    "\n",
    "import nltk\n",
    "from nltk import word_tokenize\n",
    "from nltk.stem import PorterStemmer, WordNetLemmatizer\n",
    "from nltk.corpus import wordnet\n"
   ]
  },
  {
   "cell_type": "code",
   "execution_count": 2,
   "id": "464f8acf",
   "metadata": {},
   "outputs": [
    {
     "name": "stderr",
     "output_type": "stream",
     "text": [
      "[nltk_data] Downloading package wordnet to\n",
      "[nltk_data]     C:\\Users\\Stavan\\AppData\\Roaming\\nltk_data...\n",
      "[nltk_data]   Package wordnet is already up-to-date!\n",
      "[nltk_data] Downloading package averaged_perceptron_tagger to\n",
      "[nltk_data]     C:\\Users\\Stavan\\AppData\\Roaming\\nltk_data...\n",
      "[nltk_data]   Package averaged_perceptron_tagger is already up-to-\n",
      "[nltk_data]       date!\n",
      "[nltk_data] Downloading package punkt to\n",
      "[nltk_data]     C:\\Users\\Stavan\\AppData\\Roaming\\nltk_data...\n",
      "[nltk_data]   Package punkt is already up-to-date!\n"
     ]
    },
    {
     "data": {
      "text/plain": [
       "True"
      ]
     },
     "execution_count": 2,
     "metadata": {},
     "output_type": "execute_result"
    }
   ],
   "source": [
    "nltk.download('wordnet')\n",
    "nltk.download('averaged_perceptron_tagger')\n",
    "nltk.download('punkt')"
   ]
  },
  {
   "cell_type": "code",
   "execution_count": 3,
   "id": "579744d2",
   "metadata": {},
   "outputs": [],
   "source": [
    "df = pd.read_csv('bbc-text.csv')"
   ]
  },
  {
   "cell_type": "code",
   "execution_count": 4,
   "id": "db9283b3",
   "metadata": {},
   "outputs": [
    {
     "data": {
      "text/plain": [
       "(2225, 2)"
      ]
     },
     "execution_count": 4,
     "metadata": {},
     "output_type": "execute_result"
    }
   ],
   "source": [
    "df.shape"
   ]
  },
  {
   "cell_type": "code",
   "execution_count": 5,
   "id": "2af526ac",
   "metadata": {},
   "outputs": [
    {
     "data": {
      "text/html": [
       "<div>\n",
       "<style scoped>\n",
       "    .dataframe tbody tr th:only-of-type {\n",
       "        vertical-align: middle;\n",
       "    }\n",
       "\n",
       "    .dataframe tbody tr th {\n",
       "        vertical-align: top;\n",
       "    }\n",
       "\n",
       "    .dataframe thead th {\n",
       "        text-align: right;\n",
       "    }\n",
       "</style>\n",
       "<table border=\"1\" class=\"dataframe\">\n",
       "  <thead>\n",
       "    <tr style=\"text-align: right;\">\n",
       "      <th></th>\n",
       "      <th>category</th>\n",
       "      <th>text</th>\n",
       "    </tr>\n",
       "  </thead>\n",
       "  <tbody>\n",
       "    <tr>\n",
       "      <th>0</th>\n",
       "      <td>tech</td>\n",
       "      <td>tv future in the hands of viewers with home th...</td>\n",
       "    </tr>\n",
       "    <tr>\n",
       "      <th>1</th>\n",
       "      <td>business</td>\n",
       "      <td>worldcom boss  left books alone  former worldc...</td>\n",
       "    </tr>\n",
       "    <tr>\n",
       "      <th>2</th>\n",
       "      <td>sport</td>\n",
       "      <td>tigers wary of farrell  gamble  leicester say ...</td>\n",
       "    </tr>\n",
       "    <tr>\n",
       "      <th>3</th>\n",
       "      <td>sport</td>\n",
       "      <td>yeading face newcastle in fa cup premiership s...</td>\n",
       "    </tr>\n",
       "    <tr>\n",
       "      <th>4</th>\n",
       "      <td>entertainment</td>\n",
       "      <td>ocean s twelve raids box office ocean s twelve...</td>\n",
       "    </tr>\n",
       "  </tbody>\n",
       "</table>\n",
       "</div>"
      ],
      "text/plain": [
       "        category                                               text\n",
       "0           tech  tv future in the hands of viewers with home th...\n",
       "1       business  worldcom boss  left books alone  former worldc...\n",
       "2          sport  tigers wary of farrell  gamble  leicester say ...\n",
       "3          sport  yeading face newcastle in fa cup premiership s...\n",
       "4  entertainment  ocean s twelve raids box office ocean s twelve..."
      ]
     },
     "execution_count": 5,
     "metadata": {},
     "output_type": "execute_result"
    }
   ],
   "source": [
    "df.head()"
   ]
  },
  {
   "cell_type": "code",
   "execution_count": 7,
   "id": "6b1d8f88",
   "metadata": {},
   "outputs": [
    {
     "data": {
      "text/html": [
       "<div>\n",
       "<style scoped>\n",
       "    .dataframe tbody tr th:only-of-type {\n",
       "        vertical-align: middle;\n",
       "    }\n",
       "\n",
       "    .dataframe tbody tr th {\n",
       "        vertical-align: top;\n",
       "    }\n",
       "\n",
       "    .dataframe thead th {\n",
       "        text-align: right;\n",
       "    }\n",
       "</style>\n",
       "<table border=\"1\" class=\"dataframe\">\n",
       "  <thead>\n",
       "    <tr style=\"text-align: right;\">\n",
       "      <th></th>\n",
       "      <th>category</th>\n",
       "      <th>text</th>\n",
       "    </tr>\n",
       "  </thead>\n",
       "  <tbody>\n",
       "    <tr>\n",
       "      <th>0</th>\n",
       "      <td>tech</td>\n",
       "      <td>tv future in the hands of viewers with home th...</td>\n",
       "    </tr>\n",
       "  </tbody>\n",
       "</table>\n",
       "</div>"
      ],
      "text/plain": [
       "  category                                               text\n",
       "0     tech  tv future in the hands of viewers with home th..."
      ]
     },
     "execution_count": 7,
     "metadata": {},
     "output_type": "execute_result"
    }
   ],
   "source": [
    "df.head(1)"
   ]
  },
  {
   "cell_type": "code",
   "execution_count": 12,
   "id": "0c525caa",
   "metadata": {},
   "outputs": [
    {
     "data": {
      "text/plain": [
       "'worldcom boss  left books alone  former worldcom boss bernie ebbers  who is accused of overseeing an $11bn (£5.8bn) fraud  never made accounting decisions  a witness has told jurors.  david myers made the comments under questioning by defence lawyers who have been arguing that mr ebbers was not responsible for worldcom s problems. the phone company collapsed in 2002 and prosecutors claim that losses were hidden to protect the firm s shares. mr myers has already pleaded guilty to fraud and is assisting prosecutors.  on monday  defence lawyer reid weingarten tried to distance his client from the allegations. during cross examination  he asked mr myers if he ever knew mr ebbers  make an accounting decision  .  not that i am aware of   mr myers replied.  did you ever know mr ebbers to make an accounting entry into worldcom books   mr weingarten pressed.  no   replied the witness. mr myers has admitted that he ordered false accounting entries at the request of former worldcom chief financial officer scott sullivan. defence lawyers have been trying to paint mr sullivan  who has admitted fraud and will testify later in the trial  as the mastermind behind worldcom s accounting house of cards.  mr ebbers  team  meanwhile  are looking to portray him as an affable boss  who by his own admission is more pe graduate than economist. whatever his abilities  mr ebbers transformed worldcom from a relative unknown into a $160bn telecoms giant and investor darling of the late 1990s. worldcom s problems mounted  however  as competition increased and the telecoms boom petered out. when the firm finally collapsed  shareholders lost about $180bn and 20 000 workers lost their jobs. mr ebbers  trial is expected to last two months and if found guilty the former ceo faces a substantial jail sentence. he has firmly declared his innocence.'"
      ]
     },
     "execution_count": 12,
     "metadata": {},
     "output_type": "execute_result"
    }
   ],
   "source": [
    "df.loc[1,'text']"
   ]
  },
  {
   "cell_type": "code",
   "execution_count": 13,
   "id": "52f35f1e",
   "metadata": {},
   "outputs": [],
   "source": [
    "inputs = df['text']\n",
    "labels = df['category']"
   ]
  },
  {
   "cell_type": "code",
   "execution_count": 14,
   "id": "82d188c1",
   "metadata": {},
   "outputs": [
    {
     "data": {
      "text/plain": [
       "<AxesSubplot:>"
      ]
     },
     "execution_count": 14,
     "metadata": {},
     "output_type": "execute_result"
    },
    {
     "data": {
      "image/png": "[encoded data removed]",
      "text/plain": [
       "<Figure size 720x360 with 1 Axes>"
      ]
     },
     "metadata": {
      "needs_background": "light"
     },
     "output_type": "display_data"
    }
   ],
   "source": [
    "labels.hist(figsize=(10,5))#The point of this is to see whether or not we have imbalanced classes.That is if any class is over \n",
    "# or under represented. This can be an issue when we check our model's performance since, for example, if ninety nine percent\n",
    "#of our data belongs to one class, we can obtain ninety nine percent accuracy by only predicting that. In that case,\n",
    "#we would want to use other metrics in order to get a better sense of how our model is"
   ]
  },
  {
   "cell_type": "raw",
   "id": "3492bab7",
   "metadata": {},
   "source": [
    "So notice that our labels seem to be pretty evenly spread out because of this, we can say that our data is not imbalanced. And so there isn't a great need to check alternative metrics. Also, this gives us a chance to see what labels were working with notice that we have five labels business,"
   ]
  },
  {
   "cell_type": "code",
   "execution_count": 15,
   "id": "bc910dd9",
   "metadata": {},
   "outputs": [],
   "source": [
    "#The next step is to do a train test, split note that we do this before using the Count Vectorizer.\n",
    "inputs_train, inputs_test, Y_train, Y_test = train_test_split(inputs, labels, random_state= 123)"
   ]
  },
  {
   "cell_type": "code",
   "execution_count": 16,
   "id": "615e2173",
   "metadata": {},
   "outputs": [],
   "source": [
    "vectorizer = CountVectorizer() # we are not using any arguments here, simply initiating the CV."
   ]
  },
  {
   "cell_type": "code",
   "execution_count": 17,
   "id": "eda085d6",
   "metadata": {},
   "outputs": [],
   "source": [
    "X_train = vectorizer.fit_transform(inputs_train)\n",
    "X_test = vectorizer.transform(inputs_test)\n",
    "# why we call fit transform in one case, but only transform in the other case.. Recall that the training data is supposed \n",
    "# to represent what we have when we build our model. The test data is supposed to represent what we have when we apply our\n",
    "# model to data we haven't seen before. As such, we would not want to fit on the test data because that's not how test data \n",
    "# will be used.\n"
   ]
  },
  {
   "cell_type": "code",
   "execution_count": 18,
   "id": "9b238b9e",
   "metadata": {},
   "outputs": [
    {
     "data": {
      "text/plain": [
       "<1668x25997 sparse matrix of type '<class 'numpy.int64'>'\n",
       "\twith 336528 stored elements in Compressed Sparse Row format>"
      ]
     },
     "execution_count": 18,
     "metadata": {},
     "output_type": "execute_result"
    }
   ],
   "source": [
    "X_train\n",
    "# X train and X tests are matrices with number of rows equal to the number of data samples and number of columns equal \n",
    "# to the vocabulary size."
   ]
  },
  {
   "cell_type": "raw",
   "id": "f92f7d80",
   "metadata": {},
   "source": [
    "the reason these special types of matrices are used is because most of the values in the Matrix are zero. That is, most documents do not make use of most words. Using a sparse matrix representation is more efficient. Also note the size of this matrix we have about six hundred rows and about 26000 columns. Note that this is typically very undesirable in machine learning. Note that this is typically very undesirable in machine learning. This is not necessarily a detriment in this particular case."
   ]
  },
  {
   "cell_type": "code",
   "execution_count": 19,
   "id": "a0b4ad96",
   "metadata": {},
   "outputs": [
    {
     "data": {
      "text/plain": [
       "336528"
      ]
     },
     "execution_count": 19,
     "metadata": {},
     "output_type": "execute_result"
    }
   ],
   "source": [
    "(X_train != 0).sum()"
   ]
  },
  {
   "cell_type": "code",
   "execution_count": 20,
   "id": "7b217c3a",
   "metadata": {},
   "outputs": [
    {
     "data": {
      "text/plain": [
       "0.007760718378407248"
      ]
     },
     "execution_count": 20,
     "metadata": {},
     "output_type": "execute_result"
    }
   ],
   "source": [
    "# % of values that are non-zero \n",
    "(X_train != 0).sum() / np.prod(X_train.shape)#On the denominator, we have the product of extreme dot shape"
   ]
  },
  {
   "cell_type": "code",
   "execution_count": 24,
   "id": "263f49ad",
   "metadata": {},
   "outputs": [
    {
     "name": "stdout",
     "output_type": "stream",
     "text": [
      "train score : 0.9928057553956835\n",
      "test score : 0.9766606822262118\n"
     ]
    }
   ],
   "source": [
    "model = MultinomialNB()\n",
    "model.fit(X_train, Y_train)\n",
    "print('train score :', model.score(X_train, Y_train))\n",
    "print('test score :', model.score(X_test, Y_test))"
   ]
  },
  {
   "cell_type": "code",
   "execution_count": 25,
   "id": "5a61a852",
   "metadata": {},
   "outputs": [
    {
     "name": "stdout",
     "output_type": "stream",
     "text": [
      "train score : 0.9940047961630696\n",
      "test score : 0.9730700179533214\n"
     ]
    }
   ],
   "source": [
    "#with Stop words\n",
    "vectorizer = CountVectorizer(stop_words='english')\n",
    "X_train = vectorizer.fit_transform(inputs_train)\n",
    "X_test = vectorizer.transform(inputs_test)\n",
    "model = MultinomialNB()\n",
    "model.fit(X_train, Y_train)\n",
    "print('train score :', model.score(X_train, Y_train))\n",
    "print('test score :', model.score(X_test, Y_test))"
   ]
  },
  {
   "cell_type": "code",
   "execution_count": 26,
   "id": "97ff6606",
   "metadata": {},
   "outputs": [],
   "source": [
    "# will map parts of speech tags in NLTK\n",
    "def get_wordnet_pos(treebank_tag):\n",
    "    if treebank_tag.startswith('J'):\n",
    "        return wordnet.ADJ\n",
    "    elif treebank_tag.startswith('V'):\n",
    "        return wordnet.VERB\n",
    "    elif treebank_tag.startswith('N'):\n",
    "        return wordnet.NOUN\n",
    "    elif treebank_tag.startswith('R'):\n",
    "        return wordnet.ADV\n",
    "    else :\n",
    "        return wordnet.NOUN"
   ]
  },
  {
   "cell_type": "code",
   "execution_count": 27,
   "id": "92f95e42",
   "metadata": {},
   "outputs": [],
   "source": [
    "#this is going to do all the work of tokenizing and limiting each document. \n",
    "# What do we want to do is create an object and then we want to be able to call that object as if it were afunction\n",
    "class LemmaTokenizer:\n",
    "    def __init__(self):\n",
    "        self.wnl = WordNetLemmatizer()\n",
    "    def __call__(self, doc):\n",
    "        tokens = word_tokenize(doc)  #like string.split\n",
    "        words_tags = nltk.pos_tag(tokens)\n",
    "        return [self.wnl.lemmatize(word, pos= get_wordnet_pos(tag)) for word, tag in words_tags]\n",
    "        "
   ]
  },
  {
   "cell_type": "code",
   "execution_count": 36,
   "id": "bbdd5fb8",
   "metadata": {},
   "outputs": [
    {
     "name": "stdout",
     "output_type": "stream",
     "text": [
      "train score : 0.9946043165467626\n",
      "test score : 0.9730700179533214\n"
     ]
    },
    {
     "data": {
      "text/plain": [
       "(1668, 25024)"
      ]
     },
     "execution_count": 36,
     "metadata": {},
     "output_type": "execute_result"
    }
   ],
   "source": [
    "#with Lemmatization  -- very slow process - time consuming\n",
    "vectorizer = CountVectorizer(tokenizer=LemmaTokenizer())#Note that this takes in any callable, so an object with a call function is acceptable.\n",
    "X_train = vectorizer.fit_transform(inputs_train)\n",
    "X_test = vectorizer.transform(inputs_test)\n",
    "model = MultinomialNB()\n",
    "model.fit(X_train, Y_train)\n",
    "print('train score :', model.score(X_train, Y_train))\n",
    "print('test score :', model.score(X_test, Y_test))\n",
    "X_train.shape"
   ]
  },
  {
   "cell_type": "code",
   "execution_count": 30,
   "id": "790e09b8",
   "metadata": {},
   "outputs": [],
   "source": [
    "class StemTokenizer:\n",
    "    def __init__(self):\n",
    "        self.porter = PorterStemmer()\n",
    "    def __call__(self, doc):\n",
    "        tokens = word_tokenize(doc)  #like string.split\n",
    "        return [self.porter.stem(t) for t in tokens]"
   ]
  },
  {
   "cell_type": "code",
   "execution_count": 35,
   "id": "6793ae7f",
   "metadata": {},
   "outputs": [
    {
     "name": "stdout",
     "output_type": "stream",
     "text": [
      "train score : 0.9922062350119905\n",
      "test score : 0.9748653500897666\n"
     ]
    },
    {
     "data": {
      "text/plain": [
       "(1668, 21901)"
      ]
     },
     "execution_count": 35,
     "metadata": {},
     "output_type": "execute_result"
    }
   ],
   "source": [
    "# with Stemming\n",
    "vectorizer = CountVectorizer(tokenizer=StemTokenizer())#Note that this takes in any callable, so an object with a call function is acceptable.\n",
    "X_train = vectorizer.fit_transform(inputs_train)\n",
    "X_test = vectorizer.transform(inputs_test)\n",
    "model = MultinomialNB()\n",
    "model.fit(X_train, Y_train)\n",
    "print('train score :', model.score(X_train, Y_train))\n",
    "print('test score :', model.score(X_test, Y_test))\n",
    "X_train.shape"
   ]
  },
  {
   "cell_type": "code",
   "execution_count": 32,
   "id": "a3f5b5bd",
   "metadata": {},
   "outputs": [],
   "source": [
    "def simple_tokenizer(s):\n",
    "    return s.split()"
   ]
  },
  {
   "cell_type": "code",
   "execution_count": 34,
   "id": "07a42df3",
   "metadata": {},
   "outputs": [
    {
     "name": "stdout",
     "output_type": "stream",
     "text": [
      "train score : 0.9934052757793765\n",
      "test score : 0.9694793536804309\n"
     ]
    },
    {
     "data": {
      "text/plain": [
       "(1668, 37787)"
      ]
     },
     "execution_count": 34,
     "metadata": {},
     "output_type": "execute_result"
    }
   ],
   "source": [
    "# with split tokenizer\n",
    "vectorizer = CountVectorizer(tokenizer=simple_tokenizer)#Note that this takes in any callable, so an object with a call function is acceptable.\n",
    "X_train = vectorizer.fit_transform(inputs_train)\n",
    "X_test = vectorizer.transform(inputs_test)\n",
    "model = MultinomialNB()\n",
    "model.fit(X_train, Y_train)\n",
    "print('train score :', model.score(X_train, Y_train))\n",
    "print('test score :', model.score(X_test, Y_test))\n",
    "X_train.shape"
   ]
  },
  {
   "cell_type": "code",
   "execution_count": 37,
   "id": "a70ec94d",
   "metadata": {},
   "outputs": [],
   "source": [
    "# now when we see the shape of X-train for each case, we can see how the dimensionality is reduced with stemming and lemmatization\n",
    "# and also in this case stemming performed better"
   ]
  },
  {
   "cell_type": "code",
   "execution_count": null,
   "id": "e765e061",
   "metadata": {},
   "outputs": [],
   "source": []
  }
 ],
 "metadata": {
  "kernelspec": {
   "display_name": "Python 3",
   "language": "python",
   "name": "python3"
  },
  "language_info": {
   "codemirror_mode": {
    "name": "ipython",
    "version": 3
   },
   "file_extension": ".py",
   "mimetype": "text/x-python",
   "name": "python",
   "nbconvert_exporter": "python",
   "pygments_lexer": "ipython3",
   "version": "3.8.8"
  }
 },
 "nbformat": 4,
 "nbformat_minor": 5
}
